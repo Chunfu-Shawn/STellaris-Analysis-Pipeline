{
 "cells": [
  {
   "cell_type": "code",
   "execution_count": 123,
   "id": "d1a469e3",
   "metadata": {},
   "outputs": [
    {
     "name": "stdout",
     "output_type": "stream",
     "text": [
      "The autoreload extension is already loaded. To reload it, use:\n",
      "  %reload_ext autoreload\n"
     ]
    }
   ],
   "source": [
    "%load_ext autoreload\n",
    "%autoreload 2\n",
    "import os\n",
    "import sys\n",
    "import scanpy as sc\n",
    "import numpy as np\n",
    "import pandas as pd\n",
    "import time\n",
    "import utils\n",
    "import argparse\n",
    "import Tangram as tg\n",
    "import scipy\n",
    "import assign_coordinates as ac"
   ]
  },
  {
   "cell_type": "code",
   "execution_count": 118,
   "id": "f42afc8e",
   "metadata": {},
   "outputs": [
    {
     "name": "stdout",
     "output_type": "stream",
     "text": [
      "Read scRNA-seq and ST data...\n"
     ]
    }
   ],
   "source": [
    "# Read scRNA-seq and ST data\n",
    "utils.info(\"Read scRNA-seq and ST data...\")\n",
    "adata_sc = sc.read_h5ad(\"/home/user/data2/rbase/STellaris/public/examples/Mouse_fetal_brain/sc.h5ad\")\n",
    "adata_sp = utils.read_sp(input_h5ad=\"/home/user/data3/qij/project/stdataset/result_file/h5ad_files_only_count/\"\n",
    "                         \"STW-M-Brain-Stereo-seq-1/coronal_1/coronal_1.input.h5ad\", use_raw=True)"
   ]
  },
  {
   "cell_type": "code",
   "execution_count": 124,
   "id": "0a002c2a",
   "metadata": {},
   "outputs": [
    {
     "name": "stdout",
     "output_type": "stream",
     "text": [
      "Initiate tangram instance...\n",
      "Read in ad_sc and ad_sp\n"
     ]
    }
   ],
   "source": [
    "# 添加GPU环境变量\n",
    "os.environ['CUDA_VISIBLE_DEVICES'] = '0,1'\n",
    "os.environ['CUDA_LAUNCH_BLOCKING'] = '1'\n",
    "\n",
    "# Initiate Tangram instance\n",
    "utils.info(\"Initiate tangram instance...\")\n",
    "tg_ins = tg.Tangram(ad_sc=adata_sc, ad_sp=adata_sp, \n",
    "                    output_dir=\"/home/user/data2/rbase/spatial_annotate_scripts/data/STW-M-Brain-Stereo-seq-1/\", cell_type_key='cell_type')"
   ]
  },
  {
   "cell_type": "code",
   "execution_count": 125,
   "id": "dec8eb8d",
   "metadata": {},
   "outputs": [
    {
     "name": "stdout",
     "output_type": "stream",
     "text": [
      "Perform tangram mapping...\n",
      "Get marker\n",
      "Run pp_adatas\n"
     ]
    },
    {
     "name": "stderr",
     "output_type": "stream",
     "text": [
      "INFO:root:1115 training genes are saved in `uns``training_genes` of both single cell and spatial Anndatas.\n",
      "INFO:root:17124 overlapped genes are saved in `uns``overlap_genes` of both single cell and spatial Anndatas.\n",
      "INFO:root:uniform based density prior is calculated and saved in `obs``uniform_density` of the spatial Anndata.\n",
      "INFO:root:rna count based density prior is calculated and saved in `obs``rna_count_based_density` of the spatial Anndata.\n",
      "INFO:root:Allocate tensors for mapping.\n"
     ]
    },
    {
     "name": "stdout",
     "output_type": "stream",
     "text": [
      "Run tangram mapping\n"
     ]
    },
    {
     "name": "stderr",
     "output_type": "stream",
     "text": [
      "INFO:root:Begin training with 1115 genes and rna_count_based density_prior in cells mode...\n",
      "INFO:root:Printing scores every 100 epochs.\n"
     ]
    },
    {
     "name": "stdout",
     "output_type": "stream",
     "text": [
      "Score: 0.312, KL reg: 0.093\n"
     ]
    },
    {
     "name": "stderr",
     "output_type": "stream",
     "text": [
      "INFO:root:Saving results..\n"
     ]
    },
    {
     "name": "stdout",
     "output_type": "stream",
     "text": [
      "Training time: 4.295633327960968 minutes\n"
     ]
    }
   ],
   "source": [
    "# Perform tangram mapping\n",
    "utils.info(\"Perform tangram mapping...\")\n",
    "start_time = time.time()\n",
    "tg_ins.run_tangram(mode=\"cells\", num_epochs=100)\n",
    "end_time = time.time()\n",
    "elapsed_time = end_time - start_time\n",
    "print(\"Training time: \" + str(elapsed_time / 60) + \" minutes\")"
   ]
  },
  {
   "cell_type": "code",
   "execution_count": 134,
   "id": "973df932",
   "metadata": {
    "scrolled": true
   },
   "outputs": [
    {
     "name": "stdout",
     "output_type": "stream",
     "text": [
      "Project single cells to the positions of ST data\n",
      "[[195  43]\n",
      " [195  48]\n",
      " [121  29]\n",
      " ...\n",
      " [148  40]\n",
      " [148  15]\n",
      " [158 149]]\n",
      "[[195.39546545  42.79427856]\n",
      " [194.79235793  47.51531621]\n",
      " [120.70206987  28.84566435]\n",
      " ...\n",
      " [147.55567099  39.77209893]\n",
      " [148.35378326  15.4875566 ]\n",
      " [158.39858967 148.71478152]]\n",
      "Save h5ad and table results\n"
     ]
    }
   ],
   "source": [
    "# Assign single cell positions\n",
    "tg_ins.project_cell_positions()\n",
    "# save registered sc h5ad\n",
    "tg_ins.save()"
   ]
  },
  {
   "cell_type": "code",
   "execution_count": 116,
   "id": "fe2c1b38",
   "metadata": {},
   "outputs": [
    {
     "data": {
      "text/html": [
       "<div>\n",
       "<style scoped>\n",
       "    .dataframe tbody tr th:only-of-type {\n",
       "        vertical-align: middle;\n",
       "    }\n",
       "\n",
       "    .dataframe tbody tr th {\n",
       "        vertical-align: top;\n",
       "    }\n",
       "\n",
       "    .dataframe thead th {\n",
       "        text-align: right;\n",
       "    }\n",
       "</style>\n",
       "<table border=\"1\" class=\"dataframe\">\n",
       "  <thead>\n",
       "    <tr style=\"text-align: right;\">\n",
       "      <th></th>\n",
       "      <th>mt</th>\n",
       "      <th>n_cells_by_counts</th>\n",
       "      <th>mean_counts</th>\n",
       "      <th>log1p_mean_counts</th>\n",
       "      <th>pct_dropout_by_counts</th>\n",
       "      <th>total_counts</th>\n",
       "      <th>log1p_total_counts</th>\n",
       "      <th>n_cells</th>\n",
       "      <th>sparsity</th>\n",
       "    </tr>\n",
       "  </thead>\n",
       "  <tbody>\n",
       "    <tr>\n",
       "      <th>0610005c13rik</th>\n",
       "      <td>False</td>\n",
       "      <td>18</td>\n",
       "      <td>0.001830</td>\n",
       "      <td>0.001828</td>\n",
       "      <td>99.835331</td>\n",
       "      <td>20.0</td>\n",
       "      <td>3.044523</td>\n",
       "      <td>18</td>\n",
       "      <td>0.998353</td>\n",
       "    </tr>\n",
       "    <tr>\n",
       "      <th>0610007n19rik</th>\n",
       "      <td>False</td>\n",
       "      <td>902</td>\n",
       "      <td>0.121032</td>\n",
       "      <td>0.114250</td>\n",
       "      <td>91.748239</td>\n",
       "      <td>1323.0</td>\n",
       "      <td>7.188413</td>\n",
       "      <td>902</td>\n",
       "      <td>0.917482</td>\n",
       "    </tr>\n",
       "    <tr>\n",
       "      <th>0610007p14rik</th>\n",
       "      <td>False</td>\n",
       "      <td>2370</td>\n",
       "      <td>0.280029</td>\n",
       "      <td>0.246883</td>\n",
       "      <td>78.318544</td>\n",
       "      <td>3061.0</td>\n",
       "      <td>8.026824</td>\n",
       "      <td>2370</td>\n",
       "      <td>0.783185</td>\n",
       "    </tr>\n",
       "    <tr>\n",
       "      <th>0610009b14rik</th>\n",
       "      <td>False</td>\n",
       "      <td>1</td>\n",
       "      <td>0.000091</td>\n",
       "      <td>0.000091</td>\n",
       "      <td>99.990852</td>\n",
       "      <td>1.0</td>\n",
       "      <td>0.693147</td>\n",
       "      <td>1</td>\n",
       "      <td>0.999909</td>\n",
       "    </tr>\n",
       "    <tr>\n",
       "      <th>0610009b22rik</th>\n",
       "      <td>False</td>\n",
       "      <td>2375</td>\n",
       "      <td>0.278291</td>\n",
       "      <td>0.245524</td>\n",
       "      <td>78.272802</td>\n",
       "      <td>3042.0</td>\n",
       "      <td>8.020599</td>\n",
       "      <td>2375</td>\n",
       "      <td>0.782728</td>\n",
       "    </tr>\n",
       "    <tr>\n",
       "      <th>...</th>\n",
       "      <td>...</td>\n",
       "      <td>...</td>\n",
       "      <td>...</td>\n",
       "      <td>...</td>\n",
       "      <td>...</td>\n",
       "      <td>...</td>\n",
       "      <td>...</td>\n",
       "      <td>...</td>\n",
       "      <td>...</td>\n",
       "    </tr>\n",
       "    <tr>\n",
       "      <th>n-r5s87</th>\n",
       "      <td>False</td>\n",
       "      <td>1</td>\n",
       "      <td>0.000091</td>\n",
       "      <td>0.000091</td>\n",
       "      <td>99.990852</td>\n",
       "      <td>1.0</td>\n",
       "      <td>0.693147</td>\n",
       "      <td>1</td>\n",
       "      <td>0.999909</td>\n",
       "    </tr>\n",
       "    <tr>\n",
       "      <th>n-r5s88</th>\n",
       "      <td>False</td>\n",
       "      <td>2</td>\n",
       "      <td>0.000183</td>\n",
       "      <td>0.000183</td>\n",
       "      <td>99.981703</td>\n",
       "      <td>2.0</td>\n",
       "      <td>1.098612</td>\n",
       "      <td>2</td>\n",
       "      <td>0.999817</td>\n",
       "    </tr>\n",
       "    <tr>\n",
       "      <th>n-r5s90</th>\n",
       "      <td>False</td>\n",
       "      <td>1</td>\n",
       "      <td>0.000091</td>\n",
       "      <td>0.000091</td>\n",
       "      <td>99.990852</td>\n",
       "      <td>1.0</td>\n",
       "      <td>0.693147</td>\n",
       "      <td>1</td>\n",
       "      <td>0.999909</td>\n",
       "    </tr>\n",
       "    <tr>\n",
       "      <th>n-r5s92</th>\n",
       "      <td>False</td>\n",
       "      <td>1</td>\n",
       "      <td>0.000091</td>\n",
       "      <td>0.000091</td>\n",
       "      <td>99.990852</td>\n",
       "      <td>1.0</td>\n",
       "      <td>0.693147</td>\n",
       "      <td>1</td>\n",
       "      <td>0.999909</td>\n",
       "    </tr>\n",
       "    <tr>\n",
       "      <th>n-r5s95</th>\n",
       "      <td>False</td>\n",
       "      <td>1</td>\n",
       "      <td>0.000091</td>\n",
       "      <td>0.000091</td>\n",
       "      <td>99.990852</td>\n",
       "      <td>1.0</td>\n",
       "      <td>0.693147</td>\n",
       "      <td>1</td>\n",
       "      <td>0.999909</td>\n",
       "    </tr>\n",
       "  </tbody>\n",
       "</table>\n",
       "<p>21300 rows × 9 columns</p>\n",
       "</div>"
      ],
      "text/plain": [
       "                  mt  n_cells_by_counts  mean_counts  log1p_mean_counts  \\\n",
       "0610005c13rik  False                 18     0.001830           0.001828   \n",
       "0610007n19rik  False                902     0.121032           0.114250   \n",
       "0610007p14rik  False               2370     0.280029           0.246883   \n",
       "0610009b14rik  False                  1     0.000091           0.000091   \n",
       "0610009b22rik  False               2375     0.278291           0.245524   \n",
       "...              ...                ...          ...                ...   \n",
       "n-r5s87        False                  1     0.000091           0.000091   \n",
       "n-r5s88        False                  2     0.000183           0.000183   \n",
       "n-r5s90        False                  1     0.000091           0.000091   \n",
       "n-r5s92        False                  1     0.000091           0.000091   \n",
       "n-r5s95        False                  1     0.000091           0.000091   \n",
       "\n",
       "               pct_dropout_by_counts  total_counts  log1p_total_counts  \\\n",
       "0610005c13rik              99.835331          20.0            3.044523   \n",
       "0610007n19rik              91.748239        1323.0            7.188413   \n",
       "0610007p14rik              78.318544        3061.0            8.026824   \n",
       "0610009b14rik              99.990852           1.0            0.693147   \n",
       "0610009b22rik              78.272802        3042.0            8.020599   \n",
       "...                              ...           ...                 ...   \n",
       "n-r5s87                    99.990852           1.0            0.693147   \n",
       "n-r5s88                    99.981703           2.0            1.098612   \n",
       "n-r5s90                    99.990852           1.0            0.693147   \n",
       "n-r5s92                    99.990852           1.0            0.693147   \n",
       "n-r5s95                    99.990852           1.0            0.693147   \n",
       "\n",
       "               n_cells  sparsity  \n",
       "0610005c13rik       18  0.998353  \n",
       "0610007n19rik      902  0.917482  \n",
       "0610007p14rik     2370  0.783185  \n",
       "0610009b14rik        1  0.999909  \n",
       "0610009b22rik     2375  0.782728  \n",
       "...                ...       ...  \n",
       "n-r5s87              1  0.999909  \n",
       "n-r5s88              2  0.999817  \n",
       "n-r5s90              1  0.999909  \n",
       "n-r5s92              1  0.999909  \n",
       "n-r5s95              1  0.999909  \n",
       "\n",
       "[21300 rows x 9 columns]"
      ]
     },
     "execution_count": 116,
     "metadata": {},
     "output_type": "execute_result"
    }
   ],
   "source": [
    "tg_ins.adata_sc_ann.var"
   ]
  },
  {
   "cell_type": "code",
   "execution_count": 96,
   "id": "4c978ce6",
   "metadata": {},
   "outputs": [],
   "source": [
    "adata_sc = sc.read_h5ad(\"/home/user/data2/rbase/STellaris/public/examples/Mouse_fetal_brain_cytospace/sc.h5ad\")\n",
    "sc_registerd = sc.read_h5ad(\"/home/user/data2/rbase/spatial_annotate_scripts/data/STW-M-Brain-Stereo-seq-1/sc_registered.cyto.h5ad\")"
   ]
  },
  {
   "cell_type": "code",
   "execution_count": 90,
   "id": "cbc0ce93",
   "metadata": {},
   "outputs": [
    {
     "data": {
      "text/plain": [
       "'Cherp'"
      ]
     },
     "execution_count": 90,
     "metadata": {},
     "output_type": "execute_result"
    }
   ],
   "source": [
    "sc_registerd.var.index[4000]"
   ]
  },
  {
   "cell_type": "code",
   "execution_count": 98,
   "id": "2aa6b07b",
   "metadata": {},
   "outputs": [
    {
     "data": {
      "text/plain": [
       "'Cherp'"
      ]
     },
     "execution_count": 98,
     "metadata": {},
     "output_type": "execute_result"
    }
   ],
   "source": [
    "adata_sc.var.index[4000]"
   ]
  },
  {
   "cell_type": "code",
   "execution_count": 91,
   "id": "1394bfb3",
   "metadata": {},
   "outputs": [
    {
     "data": {
      "text/plain": [
       "'chgb'"
      ]
     },
     "execution_count": 91,
     "metadata": {},
     "output_type": "execute_result"
    }
   ],
   "source": [
    "tg_ins.adata_sc_ann.var.index[4000]"
   ]
  },
  {
   "cell_type": "code",
   "execution_count": 109,
   "id": "4be6fa30",
   "metadata": {},
   "outputs": [],
   "source": [
    "adata_sc = sc.read_h5ad(\"/home/user/data2/rbase/STellaris-Test/public/examples/Human_cSCC/sc_registered.h5ad\")"
   ]
  },
  {
   "cell_type": "code",
   "execution_count": 107,
   "id": "bf9adcff",
   "metadata": {},
   "outputs": [],
   "source": [
    "adata_sc = sc.read_h5ad(\"/home/user/data2/rbase/STellaris-Test/public/results/20230423/62ea1db0-e1af-11ed-8e17-812a54e42e84/sc.h5ad\")"
   ]
  },
  {
   "cell_type": "code",
   "execution_count": 110,
   "id": "7618c331",
   "metadata": {},
   "outputs": [
    {
     "data": {
      "text/plain": [
       "'TMEM171'"
      ]
     },
     "execution_count": 110,
     "metadata": {},
     "output_type": "execute_result"
    }
   ],
   "source": [
    "adata_sc.var.index[5000]"
   ]
  },
  {
   "cell_type": "code",
   "execution_count": null,
   "id": "28113a10",
   "metadata": {},
   "outputs": [],
   "source": []
  }
 ],
 "metadata": {
  "kernelspec": {
   "display_name": "ST_ANN_ANLS",
   "language": "python",
   "name": "st_ann_anls"
  },
  "language_info": {
   "codemirror_mode": {
    "name": "ipython",
    "version": 3
   },
   "file_extension": ".py",
   "mimetype": "text/x-python",
   "name": "python",
   "nbconvert_exporter": "python",
   "pygments_lexer": "ipython3",
   "version": "3.9.0"
  }
 },
 "nbformat": 4,
 "nbformat_minor": 5
}
